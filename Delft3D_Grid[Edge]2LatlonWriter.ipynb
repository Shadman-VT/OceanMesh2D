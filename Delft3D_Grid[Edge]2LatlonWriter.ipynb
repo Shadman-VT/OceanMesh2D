{
 "cells": [
  {
   "cell_type": "code",
   "execution_count": 6,
   "id": "1dc654a9",
   "metadata": {},
   "outputs": [],
   "source": [
    "### This program takes in the grid as an input, extracts the coordinates (edge), and writes it as a CSV file to be imported into Arcgis. \n",
    "\n",
    "from netCDF4 import Dataset\n",
    "import csv\n",
    "\n",
    "# Replace 'your_file.nc' with the path to your NetCDF file\n",
    "file_path = r\"E:\\VirginiaTech-Research\\ChesapeakeModel\\Data\\MeshCreation\\gridsOM2D\\Closeshore\\cpb_midres_closeshore107_net.nc\"\n",
    "\n",
    "# Open the NetCDF file\n",
    "nc = Dataset(file_path, mode='r')\n",
    "\n",
    "# Print the variables in the file\n",
    "nc.variables\n",
    "\n",
    "x=nc.variables['mesh2d_node_x'][:]\n",
    "y=nc.variables['mesh2d_node_y'][:]\n",
    "\n",
    "# Prepare data to be written into CSV\n",
    "data = zip(x,y)\n",
    "\n",
    "# Write data to a CSV file\n",
    "with open(r\"E:\\VirginiaTech-Research\\ChesapeakeModel\\Data\\MeshCreation\\gridsOM2D\\Closeshore\\CloseShore_lat_lon_node.csv\", 'w', newline='') as csvfile:\n",
    "    writer = csv.writer(csvfile)\n",
    "    writer.writerow(['lat', 'lon'])  # writing the header\n",
    "    writer.writerows(data)\n",
    "\n",
    "# Close the NetCDF file\n",
    "nc.close()"
   ]
  },
  {
   "cell_type": "code",
   "execution_count": 4,
   "id": "3e0a24b0",
   "metadata": {},
   "outputs": [
    {
     "data": {
      "text/plain": [
       "dict_keys(['mesh2d', 'wgs84', 'mesh2d_node_x', 'mesh2d_node_y', 'mesh2d_node_z', 'mesh2d_edge_x', 'mesh2d_edge_y', 'mesh2d_edge_x_bnd', 'mesh2d_edge_y_bnd', 'mesh2d_edge_nodes', 'mesh2d_face_nodes', 'mesh2d_edge_faces', 'mesh2d_face_x', 'mesh2d_face_y', 'mesh2d_face_x_bnd', 'mesh2d_face_y_bnd'])"
      ]
     },
     "execution_count": 4,
     "metadata": {},
     "output_type": "execute_result"
    }
   ],
   "source": [
    "nc.variables.keys()"
   ]
  },
  {
   "cell_type": "code",
   "execution_count": 29,
   "id": "ddc46fa5",
   "metadata": {},
   "outputs": [
    {
     "data": {
      "text/plain": [
       "dict_keys(['mesh2d', 'projected_coordinate_system', 'mesh2d_node_x', 'mesh2d_node_y', 'mesh2d_node_z', 'mesh2d_edge_x', 'mesh2d_edge_y', 'mesh2d_edge_x_bnd', 'mesh2d_edge_y_bnd', 'mesh2d_edge_nodes', 'mesh2d_face_nodes', 'mesh2d_edge_faces', 'mesh2d_face_x', 'mesh2d_face_y', 'mesh2d_face_x_bnd', 'mesh2d_face_y_bnd'])"
      ]
     },
     "execution_count": 29,
     "metadata": {},
     "output_type": "execute_result"
    }
   ],
   "source": [
    "nc.variables.keys()"
   ]
  },
  {
   "cell_type": "code",
   "execution_count": null,
   "id": "361e1a23",
   "metadata": {},
   "outputs": [],
   "source": []
  },
  {
   "cell_type": "code",
   "execution_count": null,
   "id": "e12a25bc",
   "metadata": {},
   "outputs": [],
   "source": []
  },
  {
   "cell_type": "code",
   "execution_count": null,
   "id": "6dee5de3-97e1-430b-8b93-ed8d1dfdb177",
   "metadata": {},
   "outputs": [],
   "source": []
  },
  {
   "cell_type": "code",
   "execution_count": null,
   "id": "b3ac288c-4b73-47f2-8c54-73675642b5b9",
   "metadata": {},
   "outputs": [],
   "source": []
  },
  {
   "cell_type": "code",
   "execution_count": null,
   "id": "13a7b926-93ef-4d13-b648-239aa017bdcf",
   "metadata": {},
   "outputs": [],
   "source": []
  },
  {
   "cell_type": "code",
   "execution_count": null,
   "id": "a1544b1f-1c49-4a66-9b14-0335d861a8e2",
   "metadata": {},
   "outputs": [],
   "source": []
  }
 ],
 "metadata": {
  "kernelspec": {
   "display_name": "Python 3 (ipykernel)",
   "language": "python",
   "name": "python3"
  },
  "language_info": {
   "codemirror_mode": {
    "name": "ipython",
    "version": 3
   },
   "file_extension": ".py",
   "mimetype": "text/x-python",
   "name": "python",
   "nbconvert_exporter": "python",
   "pygments_lexer": "ipython3",
   "version": "3.11.7"
  }
 },
 "nbformat": 4,
 "nbformat_minor": 5
}
